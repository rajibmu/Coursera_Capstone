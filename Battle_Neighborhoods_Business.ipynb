{
 "cells": [
  {
   "cell_type": "markdown",
   "metadata": {},
   "source": [
    "## The Battle of Neighborhoods (Week 1)"
   ]
  },
  {
   "cell_type": "markdown",
   "metadata": {},
   "source": [
    "### 1.\tIntroduction:\n",
    "\n",
    "Delhi and Kolkata are two major cities in India. These two cities become a centre of attention for residential, job employment, tourism, education, shopping and sports activity. Both cities are well known in India and all over the world, and become the top choice for local and foreign communities.\n",
    "\n",
    "Information about these two cities:\n",
    "•\tDelhi, officially the National Capital Territory of Delhi (NCT), is a city and a union territory of India containing New Delhi, the capital of India. It is bordered by Haryana on three sides and by Uttar Pradesh to the east. The NCT covers an area of 1,484 square kilometres (573 sq. mi). According to the 2011 census, Delhi's city proper population was over 11 million, while the whole NCT's population was about 16.8 million. Delhi's urban area is now called Central National Capital Region (CNCR) and had an estimated 2016 population of over 26 million people, making it the world's third-largest urban area according to United Nations. Delhi is located in Northern India, at 28.61°N 77.23°E. Delhi is the largest commercial centre in northern India. Delhi has one of India's largest and fastest growing retail industries manufacturing also grew considerably as consumer goods companies established manufacturing units and headquarters in the city. Delhi's large consumer market and the availability of skilled labour has also attracted foreign investment. As India's national capital and centuries old Mughal capital, Delhi influenced the food habits of its residents and is where Mughlai cuisine originated. Along with Indian cuisine, a variety of international cuisines are popular among the residents. The dearth of food habits among the city's residents created a unique style of cooking which became popular throughout the world, with dishes such as Kebab, biryani, tandoori.\n",
    "(Source: https://en.wikipedia.org/wiki/Delhi)\n",
    "\n",
    "•\tKolkata, also known as Calcutta, is the capital of the Indian state of West Bengal. Located on the east bank of the Hooghly River approximately 75 kilometres (47 mi) west of the border with Bangladesh, it is the principal commercial, cultural, and educational centre of East India, while the Port of Kolkata is India's oldest operating port and its sole major riverine port. The city is widely regarded as the \"cultural capital\" of India, and is also nicknamed the \"City of Joy\". According to the 2011 Indian census, it is the seventh most populous city; the city had a population of 4.5 million, while the suburb population brought the total to 14.1 million, making it the third-most populous metropolitan area in India. In 1712, the British completed the construction of Fort William, located on the east bank of the Hooghly River to protect their trading factory. Flexible production has been the norm in Kolkata, which has an informal sector that employs more than 40% of the labour force.One unorganised group, roadside hawkers, generated business worth ₹ 87.72 billion (US$ 2 billion) in 2005. Kolkata is known for its literary, artistic, and revolutionary heritage; as the former capital of India, it was the birthplace of modern Indian literary and artistic thought.\n",
    "(Source: https://en.wikipedia.org/wiki/Kolkata)\n"
   ]
  },
  {
   "cell_type": "markdown",
   "metadata": {},
   "source": [
    "### Description of the Problem and Background Scenario:\n",
    "\n",
    "Opening a restaurant, in any major city, is all about location, choice of food habit and communication. However, not every restaurant is suitable for every location. It comes down to a combination of restaurant style, target audience, competitors. If someone can define a restaurant type and identify the target demographic and its most populated areas, to choosing a restaurant location that sets a business up for success. There’s a lot of work, planning and preparation that goes into opening a restaurant. Here are a few tips on how to open a restaurant and some steps need to take in order to achieve the goal. \n",
    "\n",
    "### Business Problem:\n",
    "\n",
    "Some of the features need to focus which may causes the business problem\n",
    "\n",
    "•\tRestaurant Style: The first thing need to decide is what type of restaurant will be suitable for the location. Some categories need to consider:\n",
    "\n",
    "a.\tType of food.\n",
    "\n",
    "b.\tService to provide.\n",
    "\n",
    "c.\tOpen or close area.\n",
    "\n",
    "•\tTarget Market: Need to focus on the customers from Indian, Paskistani, Bangladeshhi and Chinese origin. Also be aware of the age group, the location, the amount of money they are willing to spend.\n",
    "\n",
    "•\tCompetitors: Look at similar businesses in the area and well-renowned restaurants of the same category. Consider the ways in which they market themselves and the service they provide. \n",
    "\n",
    "•\tPrepare Menu: The menu is the core of any restaurant. It’s important to get it right menu, as it’s the deciding factor for customers deliberating a visit. Service without a menu to match may failure in success. \n",
    "\n",
    "•\tLocation and Premises: There are many factors that will contribute to where the premises to be. It can be challenging to find a perfect venue that will factor in all of the conditions. This all depends on location, type of shop and rent cost.\n",
    "\n",
    "### Interested Audience:\n",
    "I believe this is a relevant challenge with valid questions for anyone moving to start a business in a large city, anywhere in the world. The same methodology can be applied in accordance to demands as applicable. This case is also applicable for anyone interested in exploring starting or locating a new business in any city. This will also give a forecast of the cities necessary requirement so that any one may plan a new business to start with new adventure.\n"
   ]
  },
  {
   "cell_type": "code",
   "execution_count": null,
   "metadata": {},
   "outputs": [],
   "source": []
  }
 ],
 "metadata": {
  "kernelspec": {
   "display_name": "Python 3",
   "language": "python",
   "name": "python3"
  },
  "language_info": {
   "codemirror_mode": {
    "name": "ipython",
    "version": 3
   },
   "file_extension": ".py",
   "mimetype": "text/x-python",
   "name": "python",
   "nbconvert_exporter": "python",
   "pygments_lexer": "ipython3",
   "version": "3.6.8"
  }
 },
 "nbformat": 4,
 "nbformat_minor": 2
}
